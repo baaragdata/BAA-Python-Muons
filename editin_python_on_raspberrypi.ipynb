{
 "cells": [
  {
   "cell_type": "markdown",
   "metadata": {},
   "source": [
    "# Editing in VSCode from a Raspberry Pi"
   ]
  },
  {
   "cell_type": "markdown",
   "metadata": {},
   "source": [
    "Rmate is a program that allows files on the raspberry pi to be edited on your PC in VSCode. It uses a secure SSH tunnel to upload and download the files so it is fast and secure....and more importantly easy!<br><p>\n",
    "To add the rmate program to your Raspberry Pi - SSH into your Pi and type the following at the prompt...\n",
    "\n",
    "`sudo wget -O /usr/local/bin/rmate https://raw.githubusercontent.com/aurora/rmate/master/rmate`<br>\n",
    "`sudo chmod a+x /usr/local/bin/rmate`"
   ]
  },
  {
   "cell_type": "markdown",
   "metadata": {},
   "source": [
    "Once you have rmate installed you can go ahead and open a file for editing using the following format:<br>\n",
    "\n",
    "`rmate -p 52698 filename.py`\n"
   ]
  }
 ],
 "metadata": {
  "language_info": {
   "name": "python"
  }
 },
 "nbformat": 4,
 "nbformat_minor": 2
}
