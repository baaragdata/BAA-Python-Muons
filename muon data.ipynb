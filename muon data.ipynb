{
 "cells": [
  {
   "cell_type": "markdown",
   "metadata": {},
   "source": [
    "# Muon Data Processing\n",
    "\n",
    "## Session 4"
   ]
  },
  {
   "cell_type": "markdown",
   "metadata": {},
   "source": [
    "Start by importing the libraries needed"
   ]
  },
  {
   "cell_type": "code",
   "execution_count": 1,
   "metadata": {},
   "outputs": [
    {
     "name": "stdout",
     "output_type": "stream",
     "text": [
      "1.2.3\n"
     ]
    }
   ],
   "source": [
    "import pandas as pd\n",
    "import matplotlib.pyplot as plt\n",
    "\n",
    "print(pd.__version__)\n"
   ]
  },
  {
   "cell_type": "markdown",
   "metadata": {},
   "source": [
    "Then we can import the data, using the Pandas library, into a Data Frame (called df)."
   ]
  },
  {
   "cell_type": "code",
   "execution_count": 2,
   "metadata": {},
   "outputs": [],
   "source": [
    "df = pd.read_csv('data1.txt', sep=' ', skiprows=6)"
   ]
  },
  {
   "cell_type": "markdown",
   "metadata": {},
   "source": [
    "Now we can set a few paramiters..."
   ]
  },
  {
   "cell_type": "code",
   "execution_count": 3,
   "metadata": {},
   "outputs": [],
   "source": [
    "y1 = df['mV']\n",
    "y2 = df['mV'].rolling(window=12).mean()\n",
    "x = df['Time_el'] / 1000"
   ]
  },
  {
   "cell_type": "markdown",
   "metadata": {},
   "source": [
    "It might be nice to see a little of the data here too. You can use the command `df.head()` where *head* displays the first 5 rows of data"
   ]
  },
  {
   "cell_type": "code",
   "execution_count": 4,
   "metadata": {},
   "outputs": [
    {
     "data": {
      "text/html": [
       "<div>\n",
       "<style scoped>\n",
       "    .dataframe tbody tr th:only-of-type {\n",
       "        vertical-align: middle;\n",
       "    }\n",
       "\n",
       "    .dataframe tbody tr th {\n",
       "        vertical-align: top;\n",
       "    }\n",
       "\n",
       "    .dataframe thead th {\n",
       "        text-align: right;\n",
       "    }\n",
       "</style>\n",
       "<table border=\"1\" class=\"dataframe\">\n",
       "  <thead>\n",
       "    <tr style=\"text-align: right;\">\n",
       "      <th></th>\n",
       "      <th>Time</th>\n",
       "      <th>Item</th>\n",
       "      <th>Time_el</th>\n",
       "      <th>AD_Val</th>\n",
       "      <th>mV</th>\n",
       "      <th>t_Delta</th>\n",
       "      <th>Temp</th>\n",
       "    </tr>\n",
       "  </thead>\n",
       "  <tbody>\n",
       "    <tr>\n",
       "      <th>0</th>\n",
       "      <td>1.715006e+09</td>\n",
       "      <td>1</td>\n",
       "      <td>368</td>\n",
       "      <td>71</td>\n",
       "      <td>19.06</td>\n",
       "      <td>726</td>\n",
       "      <td>23.15</td>\n",
       "    </tr>\n",
       "    <tr>\n",
       "      <th>1</th>\n",
       "      <td>1.715006e+09</td>\n",
       "      <td>2</td>\n",
       "      <td>405</td>\n",
       "      <td>217</td>\n",
       "      <td>37.04</td>\n",
       "      <td>730</td>\n",
       "      <td>23.15</td>\n",
       "    </tr>\n",
       "    <tr>\n",
       "      <th>2</th>\n",
       "      <td>1.715006e+09</td>\n",
       "      <td>3</td>\n",
       "      <td>580</td>\n",
       "      <td>76</td>\n",
       "      <td>19.69</td>\n",
       "      <td>734</td>\n",
       "      <td>22.94</td>\n",
       "    </tr>\n",
       "    <tr>\n",
       "      <th>3</th>\n",
       "      <td>1.715006e+09</td>\n",
       "      <td>4</td>\n",
       "      <td>725</td>\n",
       "      <td>364</td>\n",
       "      <td>71.71</td>\n",
       "      <td>740</td>\n",
       "      <td>23.15</td>\n",
       "    </tr>\n",
       "    <tr>\n",
       "      <th>4</th>\n",
       "      <td>1.715006e+09</td>\n",
       "      <td>5</td>\n",
       "      <td>941</td>\n",
       "      <td>97</td>\n",
       "      <td>21.75</td>\n",
       "      <td>744</td>\n",
       "      <td>23.15</td>\n",
       "    </tr>\n",
       "  </tbody>\n",
       "</table>\n",
       "</div>"
      ],
      "text/plain": [
       "           Time  Item  Time_el  AD_Val     mV  t_Delta   Temp\n",
       "0  1.715006e+09     1      368      71  19.06      726  23.15\n",
       "1  1.715006e+09     2      405     217  37.04      730  23.15\n",
       "2  1.715006e+09     3      580      76  19.69      734  22.94\n",
       "3  1.715006e+09     4      725     364  71.71      740  23.15\n",
       "4  1.715006e+09     5      941      97  21.75      744  23.15"
      ]
     },
     "execution_count": 4,
     "metadata": {},
     "output_type": "execute_result"
    }
   ],
   "source": [
    "df.head()"
   ]
  },
  {
   "cell_type": "markdown",
   "metadata": {},
   "source": [
    "Now plot the chart"
   ]
  },
  {
   "cell_type": "code",
   "execution_count": 5,
   "metadata": {},
   "outputs": [
    {
     "data": {
      "image/png": "[encoded data removed]",
      "text/plain": [
       "<Figure size 432x288 with 1 Axes>"
      ]
     },
     "metadata": {
      "needs_background": "light"
     },
     "output_type": "display_data"
    }
   ],
   "source": [
    "plt.scatter(x, y1, label='SiPM(mV)', marker='.')\n",
    "plt.plot(x, y2, label='Rolling Mean - 14 point window', color='red')\n",
    "\n",
    "plt.xlabel('Elapsed Time (s)')\n",
    "plt.ylabel('SiPM(mV)')\n",
    "plt.title('Elapsed Time vs SiPM(mV)')\n",
    "plt.grid(True)\n",
    "plt.legend()\n",
    "\n",
    "plt.show()\n"
   ]
  }
 ],
 "metadata": {
  "kernelspec": {
   "display_name": "Python 3",
   "language": "python",
   "name": "python3"
  },
  "language_info": {
   "codemirror_mode": {
    "name": "ipython",
    "version": 3
   },
   "file_extension": ".py",
   "mimetype": "text/x-python",
   "name": "python",
   "nbconvert_exporter": "python",
   "pygments_lexer": "ipython3",
   "version": "3.8.10"
  }
 },
 "nbformat": 4,
 "nbformat_minor": 2
}
